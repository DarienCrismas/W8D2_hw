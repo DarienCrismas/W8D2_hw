{
 "cells": [
  {
   "cell_type": "markdown",
   "id": "32ee615d",
   "metadata": {},
   "source": [
    "<a id=\"hw\"></a>\n",
    "\n",
    "## Homework"
   ]
  },
  {
   "cell_type": "markdown",
   "id": "6ad98b28",
   "metadata": {},
   "source": [
    "Design a flexible OOP system to describe characters in a RPG game\n",
    "\n",
    "There are 4 Unique Characters which use Different Types of Attacking mechanisms and Defending mechanisms.\n",
    "\n",
    "- Orges - fights with club and defends with shield\n",
    "- Peons - fights with club and defends with shield\n",
    "- Knights - fights with a Sword and defends with Armor\n",
    "- Archer - fights with Bow and Arrow and has only is tunic to protect them\n",
    "\n",
    "- All Characters can collect gold and this will always be the same for every new type of character\n",
    "\n",
    "At the end of this each character should be able to attack and defend and collect gold. If needed any character should be able to change his fighting style, say if a knight losing his sword, but finds a club he should be able to change his fighting mechanism to use the club\n",
    "\n",
    "<b>Hint: </b> To complete this assignment you will need multiple classes and interfaces and an Abstract class\n",
    "\n",
    "You can use our [Final Rubber Ducky Walkthrough](#rubber) example as a guide "
   ]
  },
  {
   "cell_type": "code",
   "execution_count": 10,
   "id": "a715214b",
   "metadata": {},
   "outputs": [],
   "source": [
    "// Interfaces\n",
    "interface Attack{\n",
    "    weapon():void;\n",
    "};\n",
    "\n",
    "interface Defend{\n",
    "    gear():void;\n",
    "};"
   ]
  },
  {
   "cell_type": "code",
   "execution_count": 11,
   "id": "31f717f9",
   "metadata": {},
   "outputs": [],
   "source": [
    "// Weapon Classes\n",
    "class Sword implements Attack{\n",
    "    weapon(){\n",
    "        console.log(\"Sard\");\n",
    "    };\n",
    "};\n",
    "\n",
    "class Club implements Attack{\n",
    "    weapon(){\n",
    "        console.log(\"bonk\");\n",
    "    };\n",
    "};\n",
    "\n",
    "class Bow implements Attack{\n",
    "    weapon(){\n",
    "        console.log(\"I'm just like Legolas, dad\");\n",
    "    };\n",
    "};"
   ]
  },
  {
   "cell_type": "code",
   "execution_count": 12,
   "id": "2cef600a",
   "metadata": {},
   "outputs": [],
   "source": [
    "// Armor Classes\n",
    "class Armor implements Defend{\n",
    "    gear(){\n",
    "        console.log(\"clank clank clank\");\n",
    "    };\n",
    "};\n",
    "\n",
    "class Shield implements Defend{\n",
    "    gear(){\n",
    "        console.log(\"Captain America throws his mighty shieelddddd\");\n",
    "    };\n",
    "};\n",
    "\n",
    "class Tunic implements Defend{\n",
    "    gear(){\n",
    "        console.log(\"uh oh\");\n",
    "    };\n",
    "};"
   ]
  },
  {
   "cell_type": "code",
   "execution_count": 77,
   "id": "ebb2f17e",
   "metadata": {},
   "outputs": [],
   "source": [
    "// Base Character Class\n",
    "abstract class Character implements Attack, Defend{\n",
    "    weaponTyped: Attack;\n",
    "    gearTyped: Defend;\n",
    "    \n",
    "    constructor(protected gold$: number){}\n",
    "    get gold(){return this.gold$};\n",
    "\n",
    "    set gold(addGold:number){\n",
    "        this.gold$ += addGold;\n",
    "    };\n",
    "    \n",
    "\n",
    "    set weaponType(wt:Attack){\n",
    "        this.weaponType = wt;\n",
    "    };\n",
    "    \n",
    "    set gearType(gt:Defend){\n",
    "        this.gearType = gt;\n",
    "    };\n",
    "\n",
    "    weapon():void{\n",
    "        this.weaponTyped.weapon();\n",
    "    };\n",
    "\n",
    "    gear():void{\n",
    "        this.gearTyped.gear();\n",
    "    };\n",
    "};"
   ]
  },
  {
   "cell_type": "code",
   "execution_count": 14,
   "id": "b1637c20",
   "metadata": {},
   "outputs": [],
   "source": [
    "// Character Classes\n",
    "\n",
    "class Ogre extends Character{\n",
    "    weaponTyped = new Club()\n",
    "    gearTyped = new Shield()\n",
    "};\n",
    "\n",
    "class Peon extends Character{\n",
    "    weaponTyped = new Club()\n",
    "    gearTyped = new Shield()\n",
    "};\n",
    "\n",
    "class Knight extends Character{\n",
    "    weaponTyped = new Sword()\n",
    "    gearTyped = new Armor()\n",
    "};\n",
    "\n",
    "class Archer extends Character{\n",
    "    weaponTyped = new Bow()\n",
    "    gearTyped = new Tunic()\n",
    "};"
   ]
  },
  {
   "cell_type": "code",
   "execution_count": 68,
   "id": "0c6879a3",
   "metadata": {},
   "outputs": [
    {
     "name": "stdout",
     "output_type": "stream",
     "text": [
      "bonk\n",
      "Sard\n"
     ]
    }
   ],
   "source": [
    "let george = new Ogre(10)\n",
    "george.weapon()\n",
    "george.weaponTyped = new Sword()\n",
    "george.weapon()"
   ]
  },
  {
   "cell_type": "code",
   "execution_count": 81,
   "id": "34f489cd",
   "metadata": {},
   "outputs": [
    {
     "name": "stderr",
     "output_type": "stream",
     "text": [
      "1:8 - This expression is not callable because it is a 'get' accessor. Did you mean to use it without '()'?\n",
      "1:8 - Type 'Number' has no call signatures.\n"
     ]
    }
   ],
   "source": [
    "george.gold()"
   ]
  }
 ],
 "metadata": {
  "kernelspec": {
   "display_name": "TypeScript",
   "language": "typescript",
   "name": "tslab"
  },
  "language_info": {
   "codemirror_mode": {
    "mode": "typescript",
    "name": "javascript",
    "typescript": true
   },
   "file_extension": ".ts",
   "mimetype": "text/typescript",
   "name": "typescript",
   "version": "3.7.2"
  }
 },
 "nbformat": 4,
 "nbformat_minor": 5
}
